{
 "cells": [
  {
   "cell_type": "markdown",
   "metadata": {},
   "source": [
    "# Install Keyring for Python\n",
    "\n",
    "Keyring uses your operating system's encrypted password repository to securely store passwords, API keys, and the like.  It can be used from within Python and R in a device-independent manner.  Under the surface, the developers have utilized the password vault provided by the OS: Keychain (MacOS), Keyring (Linux), and Windows Credential Manager (Windows) to store encrypted passwords.  Keyring eliminates the need to enter passwords repeatedly or to place them in variables, which is not secure.\n",
    "\n",
    "To install, open Terminal (or Ananconda Powershell Prompt in Windows) and run the following:\n",
    "\n",
    "```pip install keyring```\n",
    "\n",
    "After installing, you can load it in Python with the usual import statement as shown below.  It is also advisable to import getpass so you can prompt for passwords while setting up your credentials.  (It doesn't make much sense to create \"safe\" storage of passwords, only to place them in an open text document, after all.)"
   ]
  },
  {
   "cell_type": "code",
   "execution_count": 1,
   "metadata": {},
   "outputs": [],
   "source": [
    "import keyring\n",
    "import getpass"
   ]
  },
  {
   "cell_type": "markdown",
   "metadata": {},
   "source": [
    "## R Installation\n",
    "\n",
    "For R users, install the keyring package with the intall.packages command:\n",
    "\n",
    "``` install.packages(\"keyring\") ```\n",
    "\n",
    "You can then load it using:\n",
    "\n",
    "```library(keyring)```"
   ]
  },
  {
   "cell_type": "markdown",
   "metadata": {},
   "source": [
    "# Set up API Token\n",
    "\n",
    "To add an entry into your credential store, you will need a minimum of three entries: the name of the key, the username, and the password.  For API tokens, you seldom have a username.  I generally use \"token\" for the username in these cases as shown below.  (The token shown is my API key for the College Scorecard.  If you intend to use the REST API for the College Scorecard, get your free key here: https://api.data.gov/signup)."
   ]
  },
  {
   "cell_type": "code",
   "execution_count": 2,
   "metadata": {},
   "outputs": [],
   "source": [
    "keyring.set_password(\"college_scorecard\",\n",
    "                     \"token\",\n",
    "                     \"61cbmHCGylJSxD3sXSu3bV2LaLwOyZp4xfXXJz59\")"
   ]
  },
  {
   "cell_type": "markdown",
   "metadata": {},
   "source": [
    "# Set up Database Token\n",
    "\n",
    "In the following example, I set up a username-password credential for use in attaching to the NULOOK database.  Note that I've added a prompt for the password so it isn't sitting out in plain text for someone to \"borrow\"."
   ]
  },
  {
   "cell_type": "code",
   "execution_count": 2,
   "metadata": {},
   "outputs": [
    {
     "name": "stdout",
     "output_type": "stream",
     "text": [
      "········\n"
     ]
    }
   ],
   "source": [
    "keyring.set_password(\"localhost\",\n",
    "                     \"jasoncasey\",\n",
    "                     getpass.getpass())"
   ]
  },
  {
   "cell_type": "markdown",
   "metadata": {},
   "source": [
    "Another strategy is to store both the username and password as encrypted entries for added protection.  (In other words,  the potential thief will need to guess _both_ the username and password.  I use the names _user_ and _secret_ to name these and use _token_ as my username in each key."
   ]
  },
  {
   "cell_type": "code",
   "execution_count": null,
   "metadata": {},
   "outputs": [],
   "source": [
    "# Set the username\n",
    "keyring.set_password(\"aaude_user\",\n",
    "                     \"token\",\n",
    "                     getpass.getpass())\n",
    "\n",
    "# Set the password\n",
    "keyring.set_password(\"aaude_secret\",\n",
    "                     \"token\",\n",
    "                     getpass.getpass())"
   ]
  },
  {
   "cell_type": "markdown",
   "metadata": {},
   "source": [
    "# Test\n",
    "\n",
    "The following test pulls the API token for the College Scorecard from my credential store.  As you can see, I passed the name (college_scorecard) and username (token) and it passwed back the passord.  You can use this function wherever code calls for a password string and never have to place a password in plain text ever again.  Very handy. "
   ]
  },
  {
   "cell_type": "code",
   "execution_count": 3,
   "metadata": {},
   "outputs": [
    {
     "name": "stdout",
     "output_type": "stream",
     "text": [
      "Jason's college_scorecard API key is:\n",
      "61cbmHCGylJSxD3sXSu3bV2LaLwOyZp4xfXXJz59\n",
      "\n"
     ]
    }
   ],
   "source": [
    "token = \"college_scorecard\"\n",
    "\n",
    "print(\"Jason's {} API key is:\\n{}\\n\".format(token, keyring.get_password(token, \"token\")))"
   ]
  }
 ],
 "metadata": {
  "kernelspec": {
   "display_name": "Python 3",
   "language": "python",
   "name": "python3"
  },
  "language_info": {
   "codemirror_mode": {
    "name": "ipython",
    "version": 3
   },
   "file_extension": ".py",
   "mimetype": "text/x-python",
   "name": "python",
   "nbconvert_exporter": "python",
   "pygments_lexer": "ipython3",
   "version": "3.7.5"
  }
 },
 "nbformat": 4,
 "nbformat_minor": 4
}
